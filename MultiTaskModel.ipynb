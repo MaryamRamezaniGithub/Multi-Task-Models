{
  "nbformat": 4,
  "nbformat_minor": 0,
  "metadata": {
    "kernelspec": {
      "display_name": "Python 3",
      "name": "python3"
    },
    "language_info": {
      "codemirror_mode": {
        "name": "ipython",
        "version": 3
      },
      "file_extension": ".py",
      "mimetype": "text/x-python",
      "name": "python",
      "nbconvert_exporter": "python",
      "pygments_lexer": "ipython3",
      "version": "3.8.5"
    },
    "colab": {
      "provenance": [],
      "gpuType": "T4"
    },
    "accelerator": "GPU"
  },
  "cells": [
    {
      "cell_type": "markdown",
      "metadata": {
        "id": "jKIdV8hoVX5F"
      },
      "source": [
        "## Introduction\n",
        "\n"
      ]
    },
    {
      "cell_type": "code",
      "metadata": {
        "id": "JM_cJ0ayVX5M"
      },
      "source": [
        "%matplotlib inline\n",
        "%load_ext tensorboard\n",
        "\n",
        "import tensorflow as tf\n",
        "import numpy as np\n",
        "import matplotlib.pyplot as plt\n",
        "import shutil\n",
        "\n",
        "try:\n",
        "  shutil.rmtree('logs')\n",
        "except:\n",
        "  pass"
      ],
      "execution_count": null,
      "outputs": []
    },
    {
      "cell_type": "markdown",
      "metadata": {
        "id": "QiIPp2H0VX5N"
      },
      "source": [
        "##  Create Dataset"
      ]
    },
    {
      "cell_type": "markdown",
      "source": [],
      "metadata": {
        "id": "2wNoGFQ9Kr7E"
      }
    },
    {
      "cell_type": "code",
      "metadata": {
        "id": "QovZqtGiVX5P"
      },
      "source": [
        "(x_train, y_train), (x_test, y_test)=tf.keras.datasets.mnist.load_data()"
      ],
      "execution_count": null,
      "outputs": []
    },
    {
      "cell_type": "code",
      "metadata": {
        "id": "8RZZS1NoVX5P"
      },
      "source": [
        "def creat_example(x ,y):\n",
        "  c=np.random.randint(0,2)\n",
        "  image=0.5 * np.random.rand(28, 28 ,3)\n",
        "  image[:, :, c] += 0.5 * x/255.\n",
        "  return image, y,c\n",
        "\n"
      ],
      "execution_count": null,
      "outputs": []
    },
    {
      "cell_type": "code",
      "metadata": {
        "id": "F5t-OsIpVX5Q"
      },
      "source": [
        "colors={ 0:'red', 1:'green'}\n",
        "x, y, c= creat_example( x_train[60], y_train[60])\n",
        "print(f\" digit: {y} , color: {colors[c]}\")\n",
        "plt.imshow(x)\n",
        "plt.show()\n"
      ],
      "execution_count": null,
      "outputs": []
    },
    {
      "cell_type": "markdown",
      "metadata": {
        "id": "bzzPlFteVX5Q"
      },
      "source": [
        "##  Dataset Generator"
      ]
    },
    {
      "cell_type": "code",
      "metadata": {
        "id": "FflkdksnVX5R"
      },
      "source": [
        "def generate_data( x ,y, batch_size):\n",
        "  num_examples=len(y)\n",
        "  while True:\n",
        "    x_batch=np.zeros((batch_size, 28, 28 , 3))\n",
        "    y_batch=np.zeros((batch_size, ))\n",
        "    c_batch=np.zeros((batch_size, ))\n",
        "\n",
        "    for i in range( 0 , batch_size):\n",
        "      index=np.random.randint(0 , num_examples)\n",
        "      image, digit, color= creat_example(x[index], y[index])\n",
        "      x_batch[i]=image\n",
        "      y_batch[i]=digit\n",
        "      c_batch[i]=color\n",
        "    yield x_batch, [y_batch, c_batch]\n"
      ],
      "execution_count": null,
      "outputs": []
    },
    {
      "cell_type": "code",
      "source": [
        "x , [y,c]= next(generate_data(x_test, y_test, batch_size=1))\n",
        "print(y , c)\n",
        "plt.imshow(x[0])"
      ],
      "metadata": {
        "id": "AyOO2fl_PsF3"
      },
      "execution_count": null,
      "outputs": []
    },
    {
      "cell_type": "markdown",
      "metadata": {
        "id": "yQDBRzzoVX5R"
      },
      "source": [
        "##  Create Model"
      ]
    },
    {
      "cell_type": "code",
      "metadata": {
        "id": "TJJ9Bj86VX5R"
      },
      "source": [
        "from tensorflow.keras.layers import Input, Conv2D, Activation, MaxPool2D, Flatten, Add, Dense"
      ],
      "execution_count": null,
      "outputs": []
    },
    {
      "cell_type": "code",
      "metadata": {
        "id": "agtm1bq3VX5T"
      },
      "source": [
        "input_= Input(shape=(28, 28, 3), name=\"input\")\n",
        "conv_1= Conv2D(32, 3, name=\"conv_1\")(input_)\n",
        "act_1=Activation(\"relu\", name=\"act_1\")(conv_1)\n",
        "pool_1=MaxPool2D(4, name=\"pool_1\")(act_1)\n",
        "flat_1=Flatten(name=\"flat_1\")(pool_1)\n",
        "color=Dense(1, activation=\"sigmoid\", name=\"color\")(flat_1)\n",
        "\n",
        "conv_2=Conv2D(32, 3, padding=\"same\", name=\"conv_2\")(act_1)\n",
        "act_2=Activation(\"relu\", name=\"act_2\")(conv_2)\n",
        "\n",
        "conv_3= Conv2D(32, 3, padding=\"same\", name=\"conv_3\")(act_2)\n",
        "add=Add(name=\"add\")([act_1, conv_3])\n",
        "\n",
        "act_3= Activation(\"relu\", name=\"act_3\")(add)\n",
        "pool_2=MaxPool2D(4, name=\"pool_2\")(act_3)\n",
        "flat_2=Flatten(name=\"flat_2\")(pool_2)\n",
        "\n",
        "digit=Dense(10, activation=\"softmax\", name=\"digit\")(flat_2)\n",
        "\n",
        "model=tf.keras.models.Model(input_, [digit, color])\n",
        "model.compile(\n",
        "    loss={\n",
        "        \"digit\": \"sparse_categorical_crossentropy\",\n",
        "        \"color\": \"binary_crossentropy\"\n",
        "    },\n",
        "    optimizer= \"adam\",\n",
        "    metrics=[\"accuracy\"]\n",
        ")\n",
        "\n",
        "model.summary()"
      ],
      "execution_count": null,
      "outputs": []
    },
    {
      "cell_type": "code",
      "source": [
        "tf.keras.utils.plot_model(model)"
      ],
      "metadata": {
        "id": "HF3ZZ4-KewGR"
      },
      "execution_count": null,
      "outputs": []
    },
    {
      "cell_type": "markdown",
      "metadata": {
        "id": "Aa6yAsj-VX5U"
      },
      "source": [
        "##  Training the Model\n",
        "\n",
        "---\n",
        "\n"
      ]
    },
    {
      "cell_type": "code",
      "metadata": {
        "id": "hDEFFWKGVX5U"
      },
      "source": [
        "class Logger(tf.keras.callbacks.Callback):\n",
        "  def on_epoch_end(self, epoch, logs=None):\n",
        "    digit_accuracy = logs.get('digit_accuracy')\n",
        "    color_accuracy = logs.get('color_accuracy')\n",
        "    val_digit_accuracy = logs.get('val_digit_accuracy')\n",
        "    val_color_accuracy = logs.get('val_color_accuracy')\n",
        "    print('='*30, epoch + 1, '='*30)\n",
        "    print(f'digit_accuracy: {digit_accuracy:.2f}, color_accuracy: {color_accuracy:.2f}')\n",
        "    print(f'val_digit_accuracy: {val_digit_accuracy:.2f}, val_color_accuracy: {val_color_accuracy:.2f}')"
      ],
      "execution_count": null,
      "outputs": []
    },
    {
      "cell_type": "code",
      "source": [
        "train_gen=generate_data(x_train, y_train, batch_size=32)\n",
        "test_gen=generate_data(x_test, y_test,  batch_size=32)\n",
        "\n",
        "_=model.fit(\n",
        "    train_gen,\n",
        "    validation_data=test_gen,\n",
        "    steps_per_epoch=200,\n",
        "    validation_steps=100,\n",
        "    callbacks=[\n",
        "        Logger(),\n",
        "        tf.keras.callbacks.TensorBoard(log_dir=\"./logs\")\n",
        "    ],\n",
        "    verbose=False\n",
        "\n",
        ")"
      ],
      "metadata": {
        "id": "utRBUPmbkaBS"
      },
      "execution_count": null,
      "outputs": []
    },
    {
      "cell_type": "code",
      "metadata": {
        "id": "Uw2cUj9dVX5V"
      },
      "source": [
        "%tensorboard --logdir logs"
      ],
      "execution_count": null,
      "outputs": []
    },
    {
      "cell_type": "code",
      "source": [],
      "metadata": {
        "id": "EaNqKLaXlUlw"
      },
      "execution_count": null,
      "outputs": []
    },
    {
      "cell_type": "markdown",
      "metadata": {
        "id": "SatoHJXuVX5V"
      },
      "source": [
        "##  Final Predictions"
      ]
    },
    {
      "cell_type": "code",
      "metadata": {
        "id": "FB2VxmrpVX5V"
      },
      "source": [
        "def test_model(show=True):\n",
        "  x, [y, c] = next(test)\n",
        "\n",
        "  preds = model.predict(x)\n",
        "  pred_digit = np.argmax(preds[0])\n",
        "  pred_color = int(preds[1] > 0.5)\n",
        "  gt_digit = int(y[0])\n",
        "  gt_color = int(c[0])\n",
        "\n",
        "  plt.imshow(x[0])\n",
        "  if show:\n",
        "    print(f'GT: {gt_digit}, {colors[gt_color]}')\n",
        "    print(f'Pr: {pred_digit}, {colors[pred_color]}')\n",
        "    plt.show()\n",
        "  else:\n",
        "    col = 'green' if gt_digit == pred_digit and gt_color == pred_color else 'red'\n",
        "    plt.ylabel(f'GT: {gt_digit}, {colors[gt_color]}', color=col)\n",
        "    plt.xlabel(f'Pr: {pred_digit}, {colors[pred_color]}', color=col)\n",
        "    plt.xticks([])\n",
        "    plt.yticks([])\n",
        "\n",
        "\n",
        "test = generate_data(x_test, y_test, batch_size=1)"
      ],
      "execution_count": null,
      "outputs": []
    },
    {
      "cell_type": "code",
      "metadata": {
        "id": "TosHWUfsVX5V"
      },
      "source": [
        "test_model()"
      ],
      "execution_count": null,
      "outputs": []
    },
    {
      "cell_type": "code",
      "metadata": {
        "id": "7EG78TwdVX5W"
      },
      "source": [
        "plt.figure(figsize=(12, 12))\n",
        "for i in range(0, 16):\n",
        "  plt.subplot(4, 4, i+1)\n",
        "  test_model(show=False)\n",
        "plt.show()"
      ],
      "execution_count": null,
      "outputs": []
    }
  ]
}